{
 "cells": [
  {
   "cell_type": "markdown",
   "metadata": {},
   "source": [
    "- Make a chain that takes the name of a movie and replies with information about the movie such as the director, the main cast, the budget, the box office revenue, the genre of the movie and a small synopsis.  \n",
    "  영화 이름을 가지고 감독, 주요 출연진, 예산, 흥행 수익, 영화의 장르, 간단한 시놉시스 등 영화에 대한 정보로 답장하는 체인을 만드세요.\n",
    "- The LLM should always reply using the same format, to accomplish this you must give examples to the LLM of your desired output.  \n",
    "  LLM은 항상 동일한 형식을 사용하여 응답해야 하며, 이를 위해서는 원하는 출력의 예시를 LLM에 제공해야 합니다.\n",
    "- To provide examples use FewShotPromptTemplate or FewShotChatMessagePromptTemplate.  \n",
    "  예제를 제공하려면 FewShotPromptTemplate 또는 FewShotChatMessagePromptTemplate을 사용하세요.\n"
   ]
  },
  {
   "cell_type": "code",
   "execution_count": 1,
   "metadata": {},
   "outputs": [],
   "source": [
    "from langchain.chat_models import ChatOpenAI\n",
    "from langchain.callbacks import StreamingStdOutCallbackHandler\n",
    "from langchain.prompts.example_selector.base import BaseExampleSelector\n",
    "\n",
    "\n",
    "chat = ChatOpenAI(\n",
    "    temperature=0.2,\n",
    "    streaming=True,\n",
    "    callbacks=[\n",
    "        StreamingStdOutCallbackHandler(),\n",
    "    ],\n",
    ")"
   ]
  },
  {
   "cell_type": "markdown",
   "metadata": {},
   "source": [
    "# FewShotPromptTemplate\n"
   ]
  },
  {
   "cell_type": "code",
   "execution_count": 2,
   "metadata": {},
   "outputs": [],
   "source": [
    "examples = [\n",
    "    {\n",
    "        \"question\": \"Tell me about the movie Inception.\",\n",
    "        \"answer\": \"\"\"\n",
    "        Here is the information about the movie Inception:\n",
    "\n",
    "        Director: Christopher Nolan  \n",
    "        Main Cast: Leonardo DiCaprio, Joseph Gordon-Levitt, Ellen Page, Tom Hardy  \n",
    "        Budget: $160 million  \n",
    "        Box Office Revenue: $836.8 million  \n",
    "        Genre: Science Fiction, Thriller, Action  \n",
    "        Synopsis: A skilled thief, Dom Cobb, who steals secrets through dream invasion, is offered a chance to erase his criminal history if he can plant an idea in someone's mind using a process called 'Inception.'  \n",
    "        \"\"\",\n",
    "    },\n",
    "    {\n",
    "        \"question\": \"What can you tell me about Parasite?\",\n",
    "        \"answer\": \"\"\"\n",
    "        Here is the information about the movie Parasite:\n",
    "\n",
    "        Director: Bong Joon-ho  \n",
    "        Main Cast: Song Kang-ho, Lee Sun-kyun, Cho Yeo-jeong, Choi Woo-shik, Park So-dam  \n",
    "        Budget: $11 million  \n",
    "        Box Office Revenue: $263 million  \n",
    "        Genre: Thriller, Drama, Dark Comedy  \n",
    "        Synopsis: The story follows the Kim family, who scheme to become employed by a wealthy family, the Parks, by infiltrating their household through deception, leading to unexpected and tragic consequences.  \n",
    "        \"\"\",\n",
    "    },\n",
    "]"
   ]
  },
  {
   "cell_type": "code",
   "execution_count": 3,
   "metadata": {},
   "outputs": [
    {
     "name": "stdout",
     "output_type": "stream",
     "text": [
      "input_variables: {'movie': \"Harry Potter and the Sorcerer's Stone\"}\n"
     ]
    },
    {
     "data": {
      "text/plain": [
       "\"Human: What can you tell me about Parasite?\\nAI: \\n        Here is the information about the movie Parasite:\\n\\n        Director: Bong Joon-ho  \\n        Main Cast: Song Kang-ho, Lee Sun-kyun, Cho Yeo-jeong, Choi Woo-shik, Park So-dam  \\n        Budget: $11 million  \\n        Box Office Revenue: $263 million  \\n        Genre: Thriller, Drama, Dark Comedy  \\n        Synopsis: The story follows the Kim family, who scheme to become employed by a wealthy family, the Parks, by infiltrating their household through deception, leading to unexpected and tragic consequences.  \\n        \\n\\nHuman: Tell me about the movie Harry Potter and the Sorcerer's Stone\""
      ]
     },
     "execution_count": 3,
     "metadata": {},
     "output_type": "execute_result"
    }
   ],
   "source": [
    "from langchain.prompts.few_shot import FewShotPromptTemplate\n",
    "from langchain.prompts.prompt import PromptTemplate\n",
    "\n",
    "\n",
    "class RandomExampleSeletor(BaseExampleSelector):\n",
    "    def __init__(self, examples):\n",
    "        self.examples = examples\n",
    "\n",
    "    def add_example(self, example):\n",
    "        self.examples.append(example)\n",
    "\n",
    "    def select_examples(self, input_variables):\n",
    "        from random import choice\n",
    "\n",
    "        print(\"input_variables:\", input_variables)\n",
    "        return [choice(self.examples)]\n",
    "\n",
    "\n",
    "example_prompt = PromptTemplate.from_template(\"Human: {question}\\nAI: {answer}\")\n",
    "\n",
    "example_selector = RandomExampleSeletor(\n",
    "    examples=examples,\n",
    ")\n",
    "\n",
    "prompt = FewShotPromptTemplate(\n",
    "    example_prompt=example_prompt,\n",
    "    example_selector=example_selector,\n",
    "    suffix=\"Human: Tell me about the movie {movie}\",\n",
    "    input_variables=[\"movie\"],\n",
    ")\n",
    "\n",
    "prompt.format(movie=\"Harry Potter and the Sorcerer's Stone\")"
   ]
  },
  {
   "cell_type": "code",
   "execution_count": 4,
   "metadata": {},
   "outputs": [
    {
     "name": "stdout",
     "output_type": "stream",
     "text": [
      "input_variables: {'movie': \"Harry Potter and the Sorcerer's Stone\"}\n",
      "AI: \n",
      "        Here is the information about the movie Harry Potter and the Sorcerer's Stone:\n",
      "\n",
      "        Director: Chris Columbus  \n",
      "        Main Cast: Daniel Radcliffe, Rupert Grint, Emma Watson, Robbie Coltrane, Richard Harris  \n",
      "        Budget: $125 million  \n",
      "        Box Office Revenue: $974.8 million  \n",
      "        Genre: Fantasy, Adventure  \n",
      "        Synopsis: The film follows the story of a young boy named Harry Potter who discovers he is a wizard and attends Hogwarts School of Witchcraft and Wizardry, where he learns about his past and his destiny to defeat the dark wizard Lord Voldemort."
     ]
    },
    {
     "data": {
      "text/plain": [
       "AIMessageChunk(content=\"AI: \\n        Here is the information about the movie Harry Potter and the Sorcerer's Stone:\\n\\n        Director: Chris Columbus  \\n        Main Cast: Daniel Radcliffe, Rupert Grint, Emma Watson, Robbie Coltrane, Richard Harris  \\n        Budget: $125 million  \\n        Box Office Revenue: $974.8 million  \\n        Genre: Fantasy, Adventure  \\n        Synopsis: The film follows the story of a young boy named Harry Potter who discovers he is a wizard and attends Hogwarts School of Witchcraft and Wizardry, where he learns about his past and his destiny to defeat the dark wizard Lord Voldemort.\")"
      ]
     },
     "execution_count": 4,
     "metadata": {},
     "output_type": "execute_result"
    }
   ],
   "source": [
    "chain = prompt | chat\n",
    "chain.invoke({\"movie\": \"Harry Potter and the Sorcerer's Stone\"})"
   ]
  },
  {
   "cell_type": "markdown",
   "metadata": {},
   "source": [
    "# Load Prompt\n"
   ]
  },
  {
   "cell_type": "code",
   "execution_count": 5,
   "metadata": {},
   "outputs": [
    {
     "data": {
      "text/plain": [
       "\"Human: Tell me about the movie Inception.\\nAI: Director: Christopher Nolan\\nMain Cast: Leonardo DiCaprio, Joseph Gordon-Levitt, Ellen Page, Tom Hardy\\nBudget: $160 million\\nBox Office Revenue: $836.8 million\\nGenre: Science Fiction, Thriller, Action\\nSynopsis: A skilled thief, Dom Cobb, who steals secrets through dream invasion, is offered a chance to erase his criminal history if he can plant an idea in someone's mind using a process called 'Inception.'\\n\\nHuman: What can you tell me about Parasite?\\nAI: Director: Bong Joon-ho\\nMain Cast: Song Kang-ho, Lee Sun-kyun, Cho Yeo-jeong, Choi Woo-shik, Park So-dam\\nBudget: $11 million\\nBox Office Revenue: $263 million\\nGenre: Thriller, Drama, Dark Comedy\\nSynopsis: The story follows the Kim family, who scheme to become employed by a wealthy family, the Parks, by infiltrating their household through deception, leading to unexpected and tragic consequences.\\n\\nHuman: Tell me about the movie Wicked\""
      ]
     },
     "execution_count": 5,
     "metadata": {},
     "output_type": "execute_result"
    }
   ],
   "source": [
    "from langchain.prompts import load_prompt\n",
    "\n",
    "prompt = load_prompt(\"./prompt.json\")\n",
    "prompt.format(movie=\"Wicked\")\n",
    "\n",
    "# load_prompt는 파일의 최상위 레벨에서 _type 키를 사용해 어떤 종류의 프롬프트를 로드할지 결정한다\n",
    "# \"_type\" 키가 없으면 : No `_type` key found, defaulting to `prompt`.\n",
    "# 키 이름은 정해져 있는 듯 (e.g \"template\" -> KeyError: 'example_prompt')"
   ]
  },
  {
   "cell_type": "code",
   "execution_count": 6,
   "metadata": {},
   "outputs": [
    {
     "name": "stdout",
     "output_type": "stream",
     "text": [
      "AI: \"Wicked\" is a musical fantasy film based on the Broadway musical of the same name, which is a retelling of \"The Wizard of Oz\" from the perspective of the witches of Oz, Glinda and Elphaba. The film adaptation is currently in development, with Stephen Daldry set to direct. The release date and casting details have not been announced yet.AI: \"Wicked\" is a musical fantasy film based on the Broadway musical of the same name, which is a retelling of \"The Wizard of Oz\" from the perspective of the witches of Oz, Glinda and Elphaba. The film adaptation is currently in development, with Stephen Daldry set to direct. The release date and casting details have not been announced yet.\n"
     ]
    }
   ],
   "source": [
    "# \"suffix\": \"Human: Tell me about the movie {movie}\\nAI: Please respond with the same format as the examples above.\"\n",
    "chain = prompt | chat\n",
    "response = chain.invoke({\"movie\": \"Wicked\"})\n",
    "\n",
    "print(response.content)  # 개봉한지 얼마 안돼서 반영 못하는 것으로 보임"
   ]
  },
  {
   "cell_type": "code",
   "execution_count": 7,
   "metadata": {},
   "outputs": [
    {
     "name": "stdout",
     "output_type": "stream",
     "text": [
      "AI: Director: Jon Favreau\n",
      "Main Cast: Robert Downey Jr., Gwyneth Paltrow, Jeff Bridges, Terrence Howard\n",
      "Budget: $140 million\n",
      "Box Office Revenue: $585.2 million\n",
      "Genre: Action, Sci-Fi\n",
      "Synopsis: The film follows Tony Stark, a billionaire industrialist and genius inventor, who is kidnapped and forced to build a devastating weapon. Instead, he creates a suit of armor to escape and becomes the superhero Iron Man, using his technology to fight against evil.AI: Director: Jon Favreau\n",
      "Main Cast: Robert Downey Jr., Gwyneth Paltrow, Jeff Bridges, Terrence Howard\n",
      "Budget: $140 million\n",
      "Box Office Revenue: $585.2 million\n",
      "Genre: Action, Sci-Fi\n",
      "Synopsis: The film follows Tony Stark, a billionaire industrialist and genius inventor, who is kidnapped and forced to build a devastating weapon. Instead, he creates a suit of armor to escape and becomes the superhero Iron Man, using his technology to fight against evil.\n"
     ]
    }
   ],
   "source": [
    "# \"suffix\": \"Human: Tell me about the movie {movie}\"\n",
    "response = chain.invoke({\"movie\": \"Iron Man\"})\n",
    "\n",
    "print(response.content)"
   ]
  },
  {
   "cell_type": "markdown",
   "metadata": {},
   "source": [
    "# FewShotChatMessagePromptTemplate\n"
   ]
  },
  {
   "cell_type": "code",
   "execution_count": 8,
   "metadata": {},
   "outputs": [],
   "source": [
    "from langchain.prompts.few_shot import FewShotChatMessagePromptTemplate\n",
    "from langchain.prompts import ChatPromptTemplate"
   ]
  },
  {
   "cell_type": "code",
   "execution_count": 12,
   "metadata": {},
   "outputs": [
    {
     "name": "stdout",
     "output_type": "stream",
     "text": [
      "input_variables: {}\n"
     ]
    },
    {
     "data": {
      "text/plain": [
       "\"System: You are a well-known movie youtuber\\nHuman: Tell me about the movie Inception.\\nAI: \\n        Here is the information about the movie Inception:\\n\\n        Director: Christopher Nolan  \\n        Main Cast: Leonardo DiCaprio, Joseph Gordon-Levitt, Ellen Page, Tom Hardy  \\n        Budget: $160 million  \\n        Box Office Revenue: $836.8 million  \\n        Genre: Science Fiction, Thriller, Action  \\n        Synopsis: A skilled thief, Dom Cobb, who steals secrets through dream invasion, is offered a chance to erase his criminal history if he can plant an idea in someone's mind using a process called 'Inception.'  \\n        \\nHuman: What can you tell me about Pirates of the Caribbean?\""
      ]
     },
     "execution_count": 12,
     "metadata": {},
     "output_type": "execute_result"
    }
   ],
   "source": [
    "example_selector = RandomExampleSeletor(examples=examples)\n",
    "\n",
    "# example prompt\n",
    "example_prompt = ChatPromptTemplate.from_messages(\n",
    "    [\n",
    "        (\"human\", \"{question}\"),\n",
    "        (\"ai\", \"{answer}\"),\n",
    "    ]\n",
    ")\n",
    "\n",
    "# FewShotChatMessagePromptTemplate\n",
    "prompt = FewShotChatMessagePromptTemplate(\n",
    "    example_prompt=example_prompt,\n",
    "    example_selector=example_selector,\n",
    ")\n",
    "\n",
    "# final prompt\n",
    "final_prompt = ChatPromptTemplate.from_messages(\n",
    "    [\n",
    "        (\"system\", \"You are a well-known movie youtuber\"),\n",
    "        prompt,\n",
    "        # example_prompt,\n",
    "        (\"human\", \"What can you tell me about {question}?\"),\n",
    "    ]\n",
    ")\n",
    "\n",
    "final_prompt.format(question=\"Pirates of the Caribbean\")"
   ]
  },
  {
   "cell_type": "code",
   "execution_count": 13,
   "metadata": {},
   "outputs": [
    {
     "name": "stdout",
     "output_type": "stream",
     "text": [
      "input_variables: {}\n",
      "\n",
      "        Here is the information about the movie Harry Potter and the Sorcerer's Stone:\n",
      "\n",
      "        Director: Chris Columbus  \n",
      "        Main Cast: Daniel Radcliffe, Rupert Grint, Emma Watson, Robbie Coltrane, Maggie Smith  \n",
      "        Budget: $125 million  \n",
      "        Box Office Revenue: $974.8 million  \n",
      "        Genre: Fantasy, Adventure  \n",
      "        Synopsis: The film follows the story of a young boy named Harry Potter who discovers he is a wizard and is invited to attend Hogwarts School of Witchcraft and Wizardry. Along with his new friends Ron and Hermione, Harry uncovers the mystery of the Sorcerer's Stone and faces the dark wizard Voldemort."
     ]
    },
    {
     "data": {
      "text/plain": [
       "AIMessageChunk(content=\"\\n        Here is the information about the movie Harry Potter and the Sorcerer's Stone:\\n\\n        Director: Chris Columbus  \\n        Main Cast: Daniel Radcliffe, Rupert Grint, Emma Watson, Robbie Coltrane, Maggie Smith  \\n        Budget: $125 million  \\n        Box Office Revenue: $974.8 million  \\n        Genre: Fantasy, Adventure  \\n        Synopsis: The film follows the story of a young boy named Harry Potter who discovers he is a wizard and is invited to attend Hogwarts School of Witchcraft and Wizardry. Along with his new friends Ron and Hermione, Harry uncovers the mystery of the Sorcerer's Stone and faces the dark wizard Voldemort.\")"
      ]
     },
     "execution_count": 13,
     "metadata": {},
     "output_type": "execute_result"
    }
   ],
   "source": [
    "chain = final_prompt | chat\n",
    "chain.invoke({\"question\": \"Harry Potter and the Sorcerer's Stone\"})"
   ]
  }
 ],
 "metadata": {
  "kernelspec": {
   "display_name": "env",
   "language": "python",
   "name": "python3"
  },
  "language_info": {
   "codemirror_mode": {
    "name": "ipython",
    "version": 3
   },
   "file_extension": ".py",
   "mimetype": "text/x-python",
   "name": "python",
   "nbconvert_exporter": "python",
   "pygments_lexer": "ipython3",
   "version": "3.11.6"
  }
 },
 "nbformat": 4,
 "nbformat_minor": 2
}
