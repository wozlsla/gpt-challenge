{
 "cells": [
  {
   "cell_type": "markdown",
   "metadata": {},
   "source": [
    "- Implement an LCEL chain with a memory that uses one of the memory classes we learned about.  \n",
    "  앞서 배운 메모리 클래스 중 하나를 사용하는 메모리로 LCEL 체인을 구현합니다.\n",
    "\n",
    "- The chain should take the title of a movie and reply with three emojis that represent the movie. (i.e \"Top Gun\" -> \"🛩️👨‍✈️🔥\". \"The Godfather\" -> \"👨‍👨‍👦🔫🍝 \").  \n",
    "  이 체인은 영화 제목을 가져와 영화를 나타내는 세 개의 이모티콘으로 응답해야 합니다. (예: \"탑건\" -> \"🛩️👨‍✈️🔥\". \"대부\" -> \"👨‍👨‍👦🔫🍝\").\n",
    "\n",
    "- Provide examples to the chain using FewShotPromptTemplate or FewShotChatMessagePromptTemplate to make sure it always replies with three emojis.  \n",
    "  항상 세 개의 이모티콘으로 답장하도록 FewShotPromptTemplate 또는 FewShotChatMessagePromptTemplate을 사용하여 체인에 예시를 제공하세요.\n",
    "- To check that the memory is working ask the chain about two movies and then in another cell ask the chain to tell you what is the movie you asked about first.  \n",
    "  메모리가 작동하는지 확인하려면 체인에 두 개의 영화에 대해 질문한 다음 다른 셀에서 체인에 먼저 질문한 영화가 무엇인지 알려달라고 요청하세요.\n"
   ]
  },
  {
   "cell_type": "code",
   "execution_count": 1,
   "metadata": {},
   "outputs": [],
   "source": [
    "from langchain.chat_models import ChatOpenAI\n",
    "from langchain.callbacks import StreamingStdOutCallbackHandler\n",
    "from langchain.prompts import (\n",
    "    ChatPromptTemplate,\n",
    "    FewShotChatMessagePromptTemplate,\n",
    "    MessagesPlaceholder,\n",
    ")\n",
    "from langchain.memory import ConversationSummaryBufferMemory\n",
    "from langchain.chains import LLMChain\n",
    "\n",
    "llm = ChatOpenAI(\n",
    "    model=\"gpt-4o-mini\",\n",
    "    temperature=0.2,\n",
    "    streaming=True,\n",
    "    callbacks=[\n",
    "        StreamingStdOutCallbackHandler(),\n",
    "    ],\n",
    ")"
   ]
  },
  {
   "cell_type": "code",
   "execution_count": 2,
   "metadata": {},
   "outputs": [],
   "source": [
    "examples = [\n",
    "    {\"movie\": \"Top Gun\", \"answer\": \"🛩️👨‍✈️🔥\"},\n",
    "    {\"movie\": \"The Godfather\", \"answer\": \"👨‍👨‍👦🔫🍝\"},\n",
    "    {\"movie\": \"Titanic\", \"answer\": \"🚢💔🌊\"},\n",
    "    {\"movie\": \"Jurassic Park\", \"answer\": \"🦖🦕🏞️\"},\n",
    "    {\"movie\": \"Frozen\", \"answer\": \"❄️👭⛄\"},\n",
    "    {\"movie\": \"The Avengers\", \"answer\": \"🛡️💥🦸‍♂️\"},\n",
    "]"
   ]
  },
  {
   "cell_type": "code",
   "execution_count": 3,
   "metadata": {},
   "outputs": [],
   "source": [
    "memory = ConversationSummaryBufferMemory(\n",
    "    llm=llm,\n",
    "    max_token_limit=80,\n",
    "    memory_key=\"chat_history\",\n",
    "    return_messages=True,\n",
    ")"
   ]
  },
  {
   "cell_type": "code",
   "execution_count": 4,
   "metadata": {},
   "outputs": [],
   "source": [
    "example_prompt = ChatPromptTemplate.from_messages(\n",
    "    [\n",
    "        (\"human\", \"{movie}\"),\n",
    "        (\"ai\", \"{answer}\"),\n",
    "    ]\n",
    ")\n",
    "\n",
    "fewshot_prompt = FewShotChatMessagePromptTemplate(\n",
    "    examples=examples,\n",
    "    example_prompt=example_prompt,\n",
    ")\n",
    "\n",
    "final_prompt = ChatPromptTemplate.from_messages(\n",
    "    [\n",
    "        (\n",
    "            \"system\",\n",
    "            \"\"\"\n",
    "               You are a smart assistant. \n",
    "               - If the input is a question, provide a detailed and informative answer.\n",
    "               - If the input is a movie title, respond with exactly three emojis that best represent the movie, based on the provided examples.\n",
    "               Do not include any additional text or explanation when responding to movie titles.\n",
    "            \"\"\",\n",
    "        ),\n",
    "        fewshot_prompt,\n",
    "        MessagesPlaceholder(variable_name=\"chat_history\"),\n",
    "        # (\"human\", \"{movie}\"),\n",
    "        (\"human\", \"{movie_or_question}\"),  # LCEL\n",
    "    ]\n",
    ")"
   ]
  },
  {
   "cell_type": "code",
   "execution_count": 25,
   "metadata": {},
   "outputs": [
    {
     "name": "stdout",
     "output_type": "stream",
     "text": [
      "Human: Top Gun\n",
      "AI: 🛩️👨‍✈️🔥\n",
      "Human: The Godfather\n",
      "AI: 👨‍👨‍👦🔫🍝\n",
      "Human: Titanic\n",
      "AI: 🚢💔🌊\n",
      "Human: Jurassic Park\n",
      "AI: 🦖🦕🏞️\n",
      "Human: Frozen\n",
      "AI: ❄️👭⛄\n",
      "Human: The Avengers\n",
      "AI: 🛡️💥🦸‍♂️\n"
     ]
    }
   ],
   "source": [
    "print(fewshot_prompt.format())"
   ]
  },
  {
   "cell_type": "code",
   "execution_count": 24,
   "metadata": {},
   "outputs": [
    {
     "name": "stdout",
     "output_type": "stream",
     "text": [
      "System: You are a movie emoji generator. When given a movie title as input, respond with exactly three emojis that best represent the movie, based on the provided examples. Do not include any additional text or explanation in your response.\n",
      "Human: Top Gun\n",
      "AI: 🛩️👨‍✈️🔥\n",
      "Human: The Godfather\n",
      "AI: 👨‍👨‍👦🔫🍝\n",
      "Human: Titanic\n",
      "AI: 🚢💔🌊\n",
      "Human: Jurassic Park\n",
      "AI: 🦖🦕🏞️\n",
      "Human: Frozen\n",
      "AI: ❄️👭⛄\n",
      "Human: The Avengers\n",
      "AI: 🛡️💥🦸‍♂️\n",
      "Human: Finding Nemo\n"
     ]
    }
   ],
   "source": [
    "print(final_prompt.format(movie=\"Finding Nemo\", chat_history=[]))"
   ]
  },
  {
   "cell_type": "code",
   "execution_count": 16,
   "metadata": {},
   "outputs": [],
   "source": [
    "chain = LLMChain(\n",
    "    llm=llm,\n",
    "    memory=memory,\n",
    "    prompt=final_prompt,\n",
    "    verbose=True,\n",
    ")"
   ]
  },
  {
   "cell_type": "code",
   "execution_count": 26,
   "metadata": {},
   "outputs": [
    {
     "name": "stdout",
     "output_type": "stream",
     "text": [
      "\n",
      "\n",
      "\u001b[1m> Entering new LLMChain chain...\u001b[0m\n",
      "Prompt after formatting:\n",
      "\u001b[32;1m\u001b[1;3mSystem: You are a movie emoji generator. When given a movie title as input, respond with exactly three emojis that best represent the movie, based on the provided examples. Do not include any additional text or explanation in your response.\n",
      "Human: Top Gun\n",
      "AI: 🛩️👨‍✈️🔥\n",
      "Human: The Godfather\n",
      "AI: 👨‍👨‍👦🔫🍝\n",
      "Human: Titanic\n",
      "AI: 🚢💔🌊\n",
      "Human: Jurassic Park\n",
      "AI: 🦖🦕🏞️\n",
      "Human: Frozen\n",
      "AI: ❄️👭⛄\n",
      "Human: The Avengers\n",
      "AI: 🛡️💥🦸‍♂️\n",
      "Human: Inception\u001b[0m\n",
      "💤🌀🕰️\n",
      "\u001b[1m> Finished chain.\u001b[0m\n"
     ]
    },
    {
     "data": {
      "text/plain": [
       "'💤🌀🕰️'"
      ]
     },
     "execution_count": 26,
     "metadata": {},
     "output_type": "execute_result"
    }
   ],
   "source": [
    "chain.predict(movie=\"Inception\")"
   ]
  },
  {
   "cell_type": "code",
   "execution_count": 27,
   "metadata": {},
   "outputs": [
    {
     "name": "stdout",
     "output_type": "stream",
     "text": [
      "\n",
      "\n",
      "\u001b[1m> Entering new LLMChain chain...\u001b[0m\n",
      "Prompt after formatting:\n",
      "\u001b[32;1m\u001b[1;3mSystem: You are a movie emoji generator. When given a movie title as input, respond with exactly three emojis that best represent the movie, based on the provided examples. Do not include any additional text or explanation in your response.\n",
      "Human: Top Gun\n",
      "AI: 🛩️👨‍✈️🔥\n",
      "Human: The Godfather\n",
      "AI: 👨‍👨‍👦🔫🍝\n",
      "Human: Titanic\n",
      "AI: 🚢💔🌊\n",
      "Human: Jurassic Park\n",
      "AI: 🦖🦕🏞️\n",
      "Human: Frozen\n",
      "AI: ❄️👭⛄\n",
      "Human: The Avengers\n",
      "AI: 🛡️💥🦸‍♂️\n",
      "Human: Inception\n",
      "AI: 💤🌀🕰️\n",
      "Human: Star Wars\u001b[0m\n",
      "🌌⚔️🚀\n",
      "\u001b[1m> Finished chain.\u001b[0m\n"
     ]
    },
    {
     "data": {
      "text/plain": [
       "'🌌⚔️🚀'"
      ]
     },
     "execution_count": 27,
     "metadata": {},
     "output_type": "execute_result"
    }
   ],
   "source": [
    "chain.predict(movie=\"Star Wars\")"
   ]
  },
  {
   "cell_type": "code",
   "execution_count": 28,
   "metadata": {},
   "outputs": [
    {
     "data": {
      "text/plain": [
       "ChatMessageHistory(messages=[HumanMessage(content='Inception'), AIMessage(content='💤🌀🕰️'), HumanMessage(content='Star Wars'), AIMessage(content='🌌⚔️🚀')])"
      ]
     },
     "execution_count": 28,
     "metadata": {},
     "output_type": "execute_result"
    }
   ],
   "source": [
    "memory.chat_memory"
   ]
  },
  {
   "cell_type": "code",
   "execution_count": 29,
   "metadata": {},
   "outputs": [
    {
     "data": {
      "text/plain": [
       "[HumanMessage(content='Inception'),\n",
       " AIMessage(content='💤🌀🕰️'),\n",
       " HumanMessage(content='Star Wars'),\n",
       " AIMessage(content='🌌⚔️🚀')]"
      ]
     },
     "execution_count": 29,
     "metadata": {},
     "output_type": "execute_result"
    }
   ],
   "source": [
    "memory.load_memory_variables({})[\"chat_history\"]"
   ]
  },
  {
   "cell_type": "code",
   "execution_count": null,
   "metadata": {},
   "outputs": [
    {
     "name": "stdout",
     "output_type": "stream",
     "text": [
      "\n",
      "\n",
      "\u001b[1m> Entering new LLMChain chain...\u001b[0m\n",
      "Prompt after formatting:\n",
      "\u001b[32;1m\u001b[1;3mSystem: You are a movie emoji generator. When given a movie title as input, respond with exactly three emojis that best represent the movie, based on the provided examples. Do not include any additional text or explanation in your response.\n",
      "Human: Top Gun\n",
      "AI: 🛩️👨‍✈️🔥\n",
      "Human: The Godfather\n",
      "AI: 👨‍👨‍👦🔫🍝\n",
      "Human: Titanic\n",
      "AI: 🚢💔🌊\n",
      "Human: Jurassic Park\n",
      "AI: 🦖🦕🏞️\n",
      "Human: Frozen\n",
      "AI: ❄️👭⛄\n",
      "Human: The Avengers\n",
      "AI: 🛡️💥🦸‍♂️\n",
      "Human: Inception\n",
      "AI: 💤🌀🕰️\n",
      "Human: Star Wars\n",
      "AI: 🌌⚔️🚀\n",
      "Human: Can you show me the emoji for the movie I asked about earlier?\u001b[0m\n",
      "🛩️👨‍✈️🔥\n",
      "\u001b[1m> Finished chain.\u001b[0m\n"
     ]
    },
    {
     "data": {
      "text/plain": [
       "'🛩️👨\\u200d✈️🔥'"
      ]
     },
     "execution_count": 30,
     "metadata": {},
     "output_type": "execute_result"
    }
   ],
   "source": [
    "chain.run(\n",
    "    movie=\"Can you show me the emoji for the movie I asked about earlier?\"\n",
    ")  # examples에 있는 거 대답함"
   ]
  },
  {
   "cell_type": "code",
   "execution_count": 31,
   "metadata": {},
   "outputs": [
    {
     "name": "stdout",
     "output_type": "stream",
     "text": [
      "\n",
      "\n",
      "\u001b[1m> Entering new LLMChain chain...\u001b[0m\n",
      "Prompt after formatting:\n",
      "\u001b[32;1m\u001b[1;3mSystem: You are a movie emoji generator. When given a movie title as input, respond with exactly three emojis that best represent the movie, based on the provided examples. Do not include any additional text or explanation in your response.\n",
      "Human: Top Gun\n",
      "AI: 🛩️👨‍✈️🔥\n",
      "Human: The Godfather\n",
      "AI: 👨‍👨‍👦🔫🍝\n",
      "Human: Titanic\n",
      "AI: 🚢💔🌊\n",
      "Human: Jurassic Park\n",
      "AI: 🦖🦕🏞️\n",
      "Human: Frozen\n",
      "AI: ❄️👭⛄\n",
      "Human: The Avengers\n",
      "AI: 🛡️💥🦸‍♂️\n",
      "Human: Inception\n",
      "AI: 💤🌀🕰️\n",
      "Human: Star Wars\n",
      "AI: 🌌⚔️🚀\n",
      "Human: Can you show me the emoji for the movie I asked about earlier?\n",
      "AI: 🛩️👨‍✈️🔥\n",
      "Human: What was the last movie I asked about?\u001b[0m\n",
      "Star Wars\n",
      "\u001b[1m> Finished chain.\u001b[0m\n",
      "The human mentions \"Inception,\" and the AI responds with emojis representing sleep, a spiral, and a clock."
     ]
    },
    {
     "data": {
      "text/plain": [
       "'Star Wars'"
      ]
     },
     "execution_count": 31,
     "metadata": {},
     "output_type": "execute_result"
    }
   ],
   "source": [
    "chain.predict(movie=\"What was the last movie I asked about?\")"
   ]
  },
  {
   "cell_type": "code",
   "execution_count": 32,
   "metadata": {},
   "outputs": [
    {
     "data": {
      "text/plain": [
       "[SystemMessage(content='The human mentions \"Inception,\" and the AI responds with emojis representing sleep, a spiral, and a clock.'),\n",
       " HumanMessage(content='Star Wars'),\n",
       " AIMessage(content='🌌⚔️🚀'),\n",
       " HumanMessage(content='Can you show me the emoji for the movie I asked about earlier?'),\n",
       " AIMessage(content='🛩️👨\\u200d✈️🔥'),\n",
       " HumanMessage(content='What was the last movie I asked about?'),\n",
       " AIMessage(content='Star Wars')]"
      ]
     },
     "execution_count": 32,
     "metadata": {},
     "output_type": "execute_result"
    }
   ],
   "source": [
    "memory.load_memory_variables({})[\"chat_history\"]"
   ]
  },
  {
   "cell_type": "markdown",
   "metadata": {},
   "source": [
    "# LCEL\n"
   ]
  },
  {
   "cell_type": "code",
   "execution_count": 5,
   "metadata": {},
   "outputs": [
    {
     "data": {
      "text/plain": [
       "[]"
      ]
     },
     "execution_count": 5,
     "metadata": {},
     "output_type": "execute_result"
    }
   ],
   "source": [
    "memory.load_memory_variables({})[\"chat_history\"]"
   ]
  },
  {
   "cell_type": "code",
   "execution_count": 27,
   "metadata": {},
   "outputs": [
    {
     "name": "stdout",
     "output_type": "stream",
     "text": [
      "System: \n",
      "               You are a smart assistant. \n",
      "               - If the input is a question, provide a detailed and informative answer.\n",
      "               - If the input is a movie title, respond with exactly three emojis that best represent the movie, based on the provided examples.\n",
      "               Do not include any additional text or explanation when responding to movie titles.\n",
      "            \n",
      "Human: Top Gun\n",
      "AI: 🛩️👨‍✈️🔥\n",
      "Human: The Godfather\n",
      "AI: 👨‍👨‍👦🔫🍝\n",
      "Human: Titanic\n",
      "AI: 🚢💔🌊\n",
      "Human: Jurassic Park\n",
      "AI: 🦖🦕🏞️\n",
      "Human: Frozen\n",
      "AI: ❄️👭⛄\n",
      "Human: The Avengers\n",
      "AI: 🛡️💥🦸‍♂️\n",
      "Human: Zootopia\n"
     ]
    }
   ],
   "source": [
    "print(final_prompt.format(movie_or_question=\"Zootopia\", chat_history=[]))"
   ]
  },
  {
   "cell_type": "code",
   "execution_count": 6,
   "metadata": {},
   "outputs": [],
   "source": [
    "from langchain.schema.runnable import RunnablePassthrough\n",
    "\n",
    "\n",
    "def load_memory(_):\n",
    "    return memory.load_memory_variables({})[\"chat_history\"]\n",
    "\n",
    "\n",
    "chain = RunnablePassthrough.assign(chat_history=load_memory) | final_prompt | llm\n",
    "\n",
    "\n",
    "def invoke_chain(question):\n",
    "    result = chain.invoke({\"movie_or_question\": question})\n",
    "\n",
    "    memory.save_context(\n",
    "        {\"input\": question},\n",
    "        {\"output\": result.content},\n",
    "    )\n",
    "\n",
    "    # print(result)"
   ]
  },
  {
   "cell_type": "code",
   "execution_count": 7,
   "metadata": {},
   "outputs": [
    {
     "name": "stdout",
     "output_type": "stream",
     "text": [
      "⚡🧙‍♂️📚"
     ]
    }
   ],
   "source": [
    "invoke_chain(\"Herry Potter\")"
   ]
  },
  {
   "cell_type": "code",
   "execution_count": 8,
   "metadata": {},
   "outputs": [
    {
     "name": "stdout",
     "output_type": "stream",
     "text": [
      "🐠🔍🌊"
     ]
    }
   ],
   "source": [
    "invoke_chain(\"Finding Nemo\")"
   ]
  },
  {
   "cell_type": "code",
   "execution_count": 11,
   "metadata": {},
   "outputs": [
    {
     "name": "stdout",
     "output_type": "stream",
     "text": [
      "The last movie you asked about was \"Finding Nemo.\""
     ]
    }
   ],
   "source": [
    "invoke_chain(\"What was the last movie I asked about?\")"
   ]
  },
  {
   "cell_type": "code",
   "execution_count": 13,
   "metadata": {},
   "outputs": [
    {
     "name": "stdout",
     "output_type": "stream",
     "text": [
      "🦁👑🌅The human mentions \"Herry Potter.\""
     ]
    }
   ],
   "source": [
    "invoke_chain(\"The Lion King\")"
   ]
  },
  {
   "cell_type": "code",
   "execution_count": 15,
   "metadata": {},
   "outputs": [
    {
     "name": "stdout",
     "output_type": "stream",
     "text": [
      "🕷️🕸️🕺The human mentions \"Herry Potter,\" and the AI responds with emojis related to magic and books. The human then brings up \"Finding Nemo.\""
     ]
    }
   ],
   "source": [
    "invoke_chain(\"Spider-Man\")"
   ]
  },
  {
   "cell_type": "code",
   "execution_count": 16,
   "metadata": {},
   "outputs": [
    {
     "data": {
      "text/plain": [
       "[SystemMessage(content='The human mentions \"Herry Potter,\" and the AI responds with emojis related to magic and books. The human then brings up \"Finding Nemo.\"'),\n",
       " AIMessage(content='🐠🔍🌊'),\n",
       " HumanMessage(content='What was the last movie I asked about?'),\n",
       " AIMessage(content='The last movie you asked about was \"Finding Nemo.\"'),\n",
       " HumanMessage(content='The Lion King'),\n",
       " AIMessage(content='🦁👑🌅'),\n",
       " HumanMessage(content='Spider-Man'),\n",
       " AIMessage(content='🕷️🕸️🕺')]"
      ]
     },
     "execution_count": 16,
     "metadata": {},
     "output_type": "execute_result"
    }
   ],
   "source": [
    "load_memory(_)"
   ]
  },
  {
   "cell_type": "code",
   "execution_count": 28,
   "metadata": {},
   "outputs": [],
   "source": [
    "# SystemMessage 가 같이 출력되는 이유...?\n",
    "# 이모지로 물어보는 중간에 movie가 아닌 질문을 해서 형식이 깨진거라 생각 -> prompt 수정. {movie_or_question}. 근데 아닌듯"
   ]
  }
 ],
 "metadata": {
  "kernelspec": {
   "display_name": "env",
   "language": "python",
   "name": "python3"
  },
  "language_info": {
   "codemirror_mode": {
    "name": "ipython",
    "version": 3
   },
   "file_extension": ".py",
   "mimetype": "text/x-python",
   "name": "python",
   "nbconvert_exporter": "python",
   "pygments_lexer": "ipython3",
   "version": "3.11.6"
  }
 },
 "nbformat": 4,
 "nbformat_minor": 2
}
